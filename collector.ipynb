{
 "cells": [
  {
   "cell_type": "code",
   "execution_count": 26,
   "id": "f9cb92f3",
   "metadata": {},
   "outputs": [
    {
     "name": "stdout",
     "output_type": "stream",
     "text": [
      "\u001b[34mConnecting to --port=COM4 --baud=115200 \u001b[0m\n",
      "\u001b[34mReady.\n",
      "\u001b[0m"
     ]
    }
   ],
   "source": [
    "%serialconnect --port=COM4"
   ]
  },
  {
   "cell_type": "code",
   "execution_count": 27,
   "id": "7e05d629",
   "metadata": {},
   "outputs": [],
   "source": [
    "import time\n",
    "from time import sleep\n",
    "from lsm6dsox import LSM6DSOX\n",
    "import ssd1306\n",
    "from machine import Pin, I2C, SoftI2C, ADC, Pin"
   ]
  },
  {
   "cell_type": "code",
   "execution_count": 28,
   "id": "8e438f86",
   "metadata": {},
   "outputs": [
    {
     "name": "stdout",
     "output_type": "stream",
     "text": [
      "I2C devices found: [60, 106]\n"
     ]
    }
   ],
   "source": [
    "\n",
    "\n",
    "\n",
    "# Initialize I2C interface for OLED\n",
    "i2c = SoftI2C(scl=Pin(13), sda=Pin(12))\n",
    "# Initialize SSD1306 OLED display\n",
    "oled_width = 128\n",
    "oled_height = 32  # Adjusted for 128x32 OLED display\n",
    "oled = ssd1306.SSD1306_I2C(oled_width, oled_height, i2c)\n",
    "\n",
    "# Scan for I2C devices\n",
    "devices = i2c.scan()\n",
    "if not devices:\n",
    "    raise RuntimeError('No I2C devices found')\n",
    "else:\n",
    "    print('I2C devices found:', devices)\n",
    "    \n",
    "def write_display(*txt_rows):\n",
    "    oled.fill(0)  # Clear the display\n",
    "    for i, txt in enumerate(txt_rows):\n",
    "        oled.text(txt, 0, i * 10)\n",
    "    oled.show()  # Update the display     \n",
    "    \n",
    "    \n",
    "# Initialize LDR sensor\n",
    "analogPin = ADC(Pin(26))\n",
    "\n",
    "\n",
    "# Initialize file to store data\n",
    "label = 9\n",
    "filename = \"data\"+str(label)+\".csv\"\n",
    "f = open(filename,\"wt\")\n",
    "\n",
    "f.write(\"accel_data0, accel_data1, accel_data2,gyro_data0,gyro_data1,gyro_data2 \\n\")\n",
    "\n",
    "# Initialize accelator and gyroscope \n",
    "lsm = LSM6DSOX(i2c)\n",
    "\n",
    "# Initialize button key\n",
    "in27 = Pin(27, Pin.IN, Pin.PULL_UP)\n",
    "\n",
    "\n",
    "# Variables and Parameters\n",
    "num_stored_data = 0"
   ]
  },
  {
   "cell_type": "code",
   "execution_count": null,
   "id": "24666316",
   "metadata": {},
   "outputs": [
    {
     "name": "stdout",
     "output_type": "stream",
     "text": [
      "....."
     ]
    }
   ],
   "source": [
    "while True:\n",
    "    if in27.value() == 0:\n",
    "        time.sleep_ms(200)\n",
    "        num_stored_data += 1\n",
    "        \n",
    "        write_display(\"Start to store\" , str(num_stored_data) + \"th rows\" )\n",
    "        while in27.value() == 0:\n",
    "            accel_data = lsm.accel()\n",
    "            gyro_data = lsm.gyro()\n",
    "            store_x = ','.join(map(str, accel_data + gyro_data)) + \"\\n\"\n",
    "            f.write(store_x)\n",
    "            time.sleep_ms(50)\n",
    "        f.write(\"break\\n\")"
   ]
  },
  {
   "cell_type": "code",
   "execution_count": 25,
   "id": "64b55d98",
   "metadata": {},
   "outputs": [],
   "source": [
    "f.close()"
   ]
  },
  {
   "cell_type": "code",
   "execution_count": null,
   "id": "2b86c493",
   "metadata": {},
   "outputs": [],
   "source": []
  }
 ],
 "metadata": {
  "kernelspec": {
   "display_name": "MicroPython - USB",
   "language": "micropython",
   "name": "micropython"
  },
  "language_info": {
   "codemirror_mode": "python",
   "file_extension": ".py",
   "mimetype": "text/python",
   "name": "micropython"
  }
 },
 "nbformat": 4,
 "nbformat_minor": 5
}
