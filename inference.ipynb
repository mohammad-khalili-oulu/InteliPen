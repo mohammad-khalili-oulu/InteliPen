{
 "cells": [
  {
   "cell_type": "code",
   "execution_count": 1,
   "id": "f9cb92f3",
   "metadata": {},
   "outputs": [
    {
     "name": "stdout",
     "output_type": "stream",
     "text": [
      "\u001b[34mConnecting to --port=COM4 --baud=115200 \u001b[0m\n",
      "\u001b[34mReady.\n",
      "\u001b[0m"
     ]
    }
   ],
   "source": [
    "%serialconnect --port=COM4"
   ]
  },
  {
   "cell_type": "code",
   "execution_count": 2,
   "id": "7e05d629",
   "metadata": {},
   "outputs": [],
   "source": [
    "import time\n",
    "from time import sleep\n",
    "from lsm6dsox import LSM6DSOX\n",
    "import ssd1306\n",
    "from machine import Pin, I2C, SoftI2C, ADC, Pin\n",
    "from MyModel import RandomForestClassifier"
   ]
  },
  {
   "cell_type": "code",
   "execution_count": 3,
   "id": "8e438f86",
   "metadata": {},
   "outputs": [
    {
     "name": "stdout",
     "output_type": "stream",
     "text": [
      "I2C devices found: [60, 106]\n"
     ]
    }
   ],
   "source": [
    "\n",
    "\n",
    "\n",
    "# Initialize I2C interface for OLED\n",
    "i2c = SoftI2C(scl=Pin(13), sda=Pin(12))\n",
    "# Initialize SSD1306 OLED display\n",
    "oled_width = 128\n",
    "oled_height = 32  # Adjusted for 128x32 OLED display\n",
    "oled = ssd1306.SSD1306_I2C(oled_width, oled_height, i2c)\n",
    "\n",
    "# Scan for I2C devices\n",
    "devices = i2c.scan()\n",
    "if not devices:\n",
    "    raise RuntimeError('No I2C devices found')\n",
    "else:\n",
    "    print('I2C devices found:', devices)\n",
    "    \n",
    "def write_display(*txt_rows):\n",
    "    oled.fill(0)  # Clear the display\n",
    "    for i, txt in enumerate(txt_rows):\n",
    "        oled.text(txt, 0, i * 10)\n",
    "    oled.show()  # Update the display     \n",
    "    \n",
    "    \n",
    "# Initialize LDR sensor\n",
    "analogPin = ADC(Pin(26))\n",
    "\n",
    "\n",
    "# Initialize accelator and gyroscope \n",
    "lsm = LSM6DSOX(i2c)\n",
    "\n",
    "# Initialize button key\n",
    "in27 = Pin(27, Pin.IN, Pin.PULL_UP)\n",
    "\n",
    "\n",
    "clf = RandomForestClassifier()\n",
    "\n"
   ]
  },
  {
   "cell_type": "code",
   "execution_count": 4,
   "id": "5f86220f-08d6-486e-b24d-b6d8b920d7dc",
   "metadata": {},
   "outputs": [],
   "source": [
    "def resample_signal(signal_list, desired_length):\n",
    "    def resample_channel(channel, desired_length):\n",
    "        current_length = len(channel)\n",
    "        if current_length == desired_length:\n",
    "            return channel\n",
    "\n",
    "        resampled_channel = []\n",
    "        ratio = current_length / desired_length\n",
    "\n",
    "        for i in range(desired_length):\n",
    "            original_index = i * ratio\n",
    "            index1 = int(original_index)\n",
    "            index2 = min(index1 + 1, current_length - 1)\n",
    "            weight = original_index - index1\n",
    "            resampled_value = channel[index1] * (1 - weight) + channel[index2] * weight\n",
    "            resampled_channel.append(resampled_value)\n",
    "\n",
    "        min_original = min(channel)\n",
    "        max_original = max(channel)\n",
    "        min_resampled = min(resampled_channel)\n",
    "        max_resampled = max(resampled_channel)\n",
    "        \n",
    "        if max_resampled != min_resampled:\n",
    "            resampled_channel = [\n",
    "                (value - min_resampled) / (max_resampled - min_resampled) * (max_original - min_original) + min_original\n",
    "                for value in resampled_channel\n",
    "            ]\n",
    "        return resampled_channel\n",
    "    transposed_signal = list(map(list, zip(*signal_list)))\n",
    "    resampled_transposed_signal = [\n",
    "        resample_channel(channel, desired_length) for channel in transposed_signal\n",
    "    ]\n",
    "    resampled_signal = list(map(list, zip(*resampled_transposed_signal)))\n",
    "    return resampled_signal"
   ]
  },
  {
   "cell_type": "code",
   "execution_count": 5,
   "id": "24666316",
   "metadata": {},
   "outputs": [
    {
     "name": "stdout",
     "output_type": "stream",
     "text": [
      ".7\n",
      ".1\n",
      "1\n",
      ".2\n",
      "3\n",
      ".1\n",
      "5\n",
      "5\n",
      ".5\n",
      "1\n",
      ".5\n",
      "5\n",
      "5\n",
      ".5\n",
      ".7\n",
      ".\u001b[34m\n",
      "\n",
      "*** Sending Ctrl-C\n",
      "\n",
      "\u001b[0m"
     ]
    },
    {
     "name": "stderr",
     "output_type": "stream",
     "text": [
      "Traceback (most recent call last):\n",
      "  File \"<stdin>\", line 16, in <module>\n",
      "KeyboardInterrupt: \n"
     ]
    }
   ],
   "source": [
    "write_display(\"Press the button to start writing\")\n",
    "\n",
    "while True:\n",
    " \n",
    "    data = []\n",
    "    if in27.value() == 0:\n",
    "        time.sleep_ms(200)\n",
    "        \n",
    "        write_display(\"Start writing\")\n",
    "        while in27.value() == 0:\n",
    "            acc = lsm.accel()\n",
    "            gyro = lsm.gyro()\n",
    "            sensor_data = [acc[0], acc[1], acc[2], gyro[0], gyro[1], gyro[2]]\n",
    "            data.append(sensor_data)\n",
    "            time.sleep_ms(50)\n",
    "    if data != []:\n",
    "        resampled = resample_signal(data, 20)\n",
    "        x = [item for sublist in resampled for item in sublist]\n",
    "        pred = clf.predict(x)\n",
    "        write_display(\"The digit is : \", str(pred))\n",
    "        print(pred)\n",
    "        time.sleep_ms(200)\n",
    "\n"
   ]
  },
  {
   "cell_type": "code",
   "execution_count": null,
   "id": "e9814fbe-ec5d-457c-8181-00a858f4ef1f",
   "metadata": {},
   "outputs": [],
   "source": []
  }
 ],
 "metadata": {
  "kernelspec": {
   "display_name": "MicroPython - USB",
   "language": "micropython",
   "name": "micropython"
  },
  "language_info": {
   "codemirror_mode": "python",
   "file_extension": ".py",
   "mimetype": "text/python",
   "name": "micropython"
  }
 },
 "nbformat": 4,
 "nbformat_minor": 5
}
